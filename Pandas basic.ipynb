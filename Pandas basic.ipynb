{
 "cells": [
  {
   "cell_type": "markdown",
   "id": "48c64365-7417-4220-8cbb-1b9cc35ff6a9",
   "metadata": {},
   "source": [
    "### Q1 Create a pandas series that contains the following data: 4,8,15,16,23,and42.Then printthe series."
   ]
  },
  {
   "cell_type": "code",
   "execution_count": 3,
   "id": "8e19c7fd-938c-43bc-8ace-df38f2b4d81e",
   "metadata": {},
   "outputs": [
    {
     "name": "stdout",
     "output_type": "stream",
     "text": [
      "0     4\n",
      "1     8\n",
      "2    15\n",
      "3    16\n",
      "4    23\n",
      "5    42\n",
      "dtype: int64\n"
     ]
    }
   ],
   "source": [
    "import pandas as pd\n",
    "data=[4,8,15,16,23,42]\n",
    "df=pd.Series(data)\n",
    "print(df)"
   ]
  },
  {
   "cell_type": "markdown",
   "id": "3be34f17-9f5e-413f-850e-79acd60481a7",
   "metadata": {},
   "source": [
    "### Q2 Create a variable of list type containing 10 elements in it and apply pandas.Series function on the variable print it. "
   ]
  },
  {
   "cell_type": "code",
   "execution_count": 4,
   "id": "a3440ba3-3319-4a04-94c0-e065579e65f6",
   "metadata": {},
   "outputs": [
    {
     "name": "stdout",
     "output_type": "stream",
     "text": [
      "0    himanshu\n",
      "1       saini\n",
      "2       sahil\n",
      "3     pasriha\n",
      "4       jatin\n",
      "5      bathla\n",
      "6     aashish\n",
      "7       verma\n",
      "8       abhay\n",
      "9      pratap\n",
      "dtype: object\n"
     ]
    }
   ],
   "source": [
    "data1=['himanshu','saini','sahil','pasriha','jatin','bathla','aashish','verma','abhay','pratap']\n",
    "df1=pd.Series(data1)\n",
    "print(df1)"
   ]
  },
  {
   "cell_type": "markdown",
   "id": "3cd354ba-294c-4e65-b1fb-4ad63fb4f4f0",
   "metadata": {},
   "source": [
    "### Q3 Create a pandas DataFrame that contains the following data:\n",
    "Name Age Gender\n",
    " Alice 25 Female\n",
    " Bab 30 Male\n",
    " Claire 27 Female\n",
    " Then print the DataFrame."
   ]
  },
  {
   "cell_type": "code",
   "execution_count": 5,
   "id": "1b719607-5fc0-47f7-8b36-89c9ea9e3ed1",
   "metadata": {},
   "outputs": [
    {
     "name": "stdout",
     "output_type": "stream",
     "text": [
      "     Name  Age  Gender\n",
      "0   Alice   25  Female\n",
      "1     Bab   30    Male\n",
      "2  Claire   27  Female\n"
     ]
    }
   ],
   "source": [
    "data3={'Name':['Alice','Bab','Claire'],\n",
    "       'Age':[25,30,27],\n",
    "       'Gender':['Female','Male','Female']\n",
    "}\n",
    "df3=pd.DataFrame(data3)\n",
    "print(df3)"
   ]
  },
  {
   "cell_type": "markdown",
   "id": "b014cc7d-0e08-4270-8c35-199e1a1672e9",
   "metadata": {},
   "source": [
    "### Q4 What is DataFrame in pandas andhow is it different from pandas.series? Explain withan example."
   ]
  },
  {
   "cell_type": "code",
   "execution_count": 6,
   "id": "6fa20fe0-ce5d-45fc-bf84-5046d0f2ab2a",
   "metadata": {},
   "outputs": [
    {
     "data": {
      "text/plain": [
       "\"In Pandas, a DataFrame is a two-dimensional labeled data structure with columns of potentially \\ndifferent data types. It is similar to a spreadsheet  or a  SQL table. In a DataFrame , data is \\norganized in rows and columns, where each column can be considered as a Pandas Series.\\n\\nOn the other hand, a Series in Pandas is a one-dimensional labeled array that can contain data of any \\ndata type, including integers, strings, and floating-point numbers. It is similar to a column in a \\nspreadsheet or a SQL table.\\n\\nThe main difference between a DataFrame and a Series is that a DataFrame is a two-dimensional data \\nstructure with rows and columns, while a Series is a one-dimensional data structure with only one column.\\nHere's an example to illustrate the difference between a DataFrame and a Series:\\n\\nSuppose we have the following data:\\nName(Alice , Bob, Charlie) , Age(25, 3, 35) , Gender (Female,Male ,Male)\\nWe can represent this data using a DataFrame in Pandas as follows:\""
      ]
     },
     "execution_count": 6,
     "metadata": {},
     "output_type": "execute_result"
    }
   ],
   "source": [
    "'''In Pandas, a DataFrame is a two-dimensional labeled data structure with columns of potentially \n",
    "different data types. It is similar to a spreadsheet  or a  SQL table. In a DataFrame , data is \n",
    "organized in rows and columns, where each column can be considered as a Pandas Series.\n",
    "\n",
    "On the other hand, a Series in Pandas is a one-dimensional labeled array that can contain data of any \n",
    "data type, including integers, strings, and floating-point numbers. It is similar to a column in a \n",
    "spreadsheet or a SQL table.\n",
    "\n",
    "The main difference between a DataFrame and a Series is that a DataFrame is a two-dimensional data \n",
    "structure with rows and columns, while a Series is a one-dimensional data structure with only one column.\n",
    "Here's an example to illustrate the difference between a DataFrame and a Series:\n",
    "\n",
    "Suppose we have the following data:\n",
    "Name(Alice , Bob, Charlie) , Age(25, 3, 35) , Gender (Female,Male ,Male)\n",
    "We can represent this data using a DataFrame in Pandas as follows:'''"
   ]
  },
  {
   "cell_type": "code",
   "execution_count": 9,
   "id": "55dcf5c9-5fc4-498d-95a3-ca1106bc240f",
   "metadata": {},
   "outputs": [
    {
     "name": "stdout",
     "output_type": "stream",
     "text": [
      "     Name  Age  Gender\n",
      "0   Alice   25  Female\n",
      "1     Bab   30    Male\n",
      "2  Claire   27  Female\n"
     ]
    }
   ],
   "source": [
    "data4={'Name':['Alice','Bab','Claire'],\n",
    "       'Age':[25,30,27],\n",
    "       'Gender':['Female','Male','Female']\n",
    "}\n",
    "df4=pd.DataFrame(data4)\n",
    "print(df4)"
   ]
  },
  {
   "cell_type": "markdown",
   "id": "506fbb5e-eccc-4332-89d6-ba8939ff73ce",
   "metadata": {},
   "source": [
    "### Q5 What are some common functions you can use to manipulate data in a Pandas DataFrame? Can you give an example of when you might use one of these functions?  "
   ]
  },
  {
   "cell_type": "code",
   "execution_count": 12,
   "id": "e9d659d5-5c50-4e8b-a72e-693e75125b99",
   "metadata": {},
   "outputs": [
    {
     "name": "stdout",
     "output_type": "stream",
     "text": [
      "                                        id  location_id  program_id\n",
      "name                                                               \n",
      "Adult Rehabilitation Center           15.0         15.0         NaN\n",
      "Economic Self-Sufficiency Program      5.0          5.0         NaN\n",
      "Example Service Name                  23.0         22.0         NaN\n",
      "Fair Oaks Adult Activity Center        1.0          1.0         NaN\n",
      "Fair Oaks Branch                       9.0          9.0         NaN\n",
      "Family Visitation Center               4.0          4.0         NaN\n",
      "Little House Recreational Activities   6.0          6.0         NaN\n",
      "Main Library                          10.0         10.0         NaN\n",
      "Meals on Wheels - South County         8.0          8.0         NaN\n",
      "Passport Photos                       22.0         22.0         NaN\n",
      "Project Read                          12.0         12.0         NaN\n",
      "Project Smile                         18.0         18.0         NaN\n",
      "Redwood City Corps                    14.0         14.0         NaN\n",
      "Redwood Shores Branch                 13.0         13.0         NaN\n",
      "Rosener House Adult Day Services       7.0          7.0         NaN\n",
      "San Mateo Free Medical Clinic         19.0         19.0         NaN\n",
      "Schaberg Branch                       11.0         11.0         NaN\n",
      "Second Career Employment Program       2.0          2.0         NaN\n",
      "Senior Peer Counseling                 3.0          3.0         NaN\n",
      "Service for Admin Test Location       21.0         21.0         NaN\n",
      "Service with blank fields             20.0         20.0         NaN\n",
      "South San Francisco Citadel Corps     17.0         17.0         NaN\n",
      "Sunnyvale Corps                       16.0         16.0         NaN\n"
     ]
    },
    {
     "name": "stderr",
     "output_type": "stream",
     "text": [
      "/tmp/ipykernel_77/3620177824.py:2: FutureWarning: The default value of numeric_only in DataFrameGroupBy.mean is deprecated. In a future version, numeric_only will default to False. Either specify numeric_only or select only columns which should be valid for the function.\n",
      "  grouped=df5.groupby('name').mean()\n"
     ]
    }
   ],
   "source": [
    "df5=pd.read_csv('services.csv')\n",
    "grouped=df5.groupby('name').mean()\n",
    "print(grouped)"
   ]
  },
  {
   "cell_type": "code",
   "execution_count": null,
   "id": "c2e668c7-d87f-4060-9cb0-111489f25689",
   "metadata": {},
   "outputs": [],
   "source": [
    "df6=pd.read_csv('services.csv')\n",
    "sorted_df6=df6.sort_values('id',ascending= False)\n",
    "print(sorted_df6)"
   ]
  },
  {
   "cell_type": "code",
   "execution_count": null,
   "id": "43e572d2-fdeb-48f5-928a-0043ed36c8f1",
   "metadata": {},
   "outputs": [],
   "source": [
    "df7=pd.read_csv('services.csv')\n",
    "print(df7.head())\n",
    "print(df7.tail())"
   ]
  },
  {
   "cell_type": "code",
   "execution_count": null,
   "id": "d811911f-1347-46f2-8c85-2bed896d064b",
   "metadata": {},
   "outputs": [],
   "source": [
    "df8=pd.read_csv('services.csv')\n",
    "print(df8.describe)"
   ]
  },
  {
   "cell_type": "markdown",
   "id": "051e80b5-db61-4442-b6ff-8a9d5b596a1e",
   "metadata": {},
   "source": [
    "### Q6 Which of the following is mutable in nature Series,DataFrame,Panel?"
   ]
  },
  {
   "cell_type": "code",
   "execution_count": null,
   "id": "e217e6b6-4792-4094-a08a-9e0560d9017c",
   "metadata": {},
   "outputs": [],
   "source": [
    "In Pandas, both Series and DataFrame are mutable in nature, while Panel is considered deprecated \n",
    "and has been replaced by multi-dimensional arrays, such as numpy.ndarray or xarray.DataArray, \n",
    "which are also mutable.\n",
    "\n",
    "In a mutable object, the contents of the object can be modified after it is created. This means \n",
    "that you can add, remove, or update elements in a Series or DataFrame after they are created."
   ]
  },
  {
   "cell_type": "markdown",
   "id": "5e5086b4-5f86-48e7-8f2d-20b956dc46d7",
   "metadata": {},
   "source": [
    "### Q7 Create a DataFrame using multiple Series. Explain with an example."
   ]
  },
  {
   "cell_type": "code",
   "execution_count": 18,
   "id": "f50185e0-a097-4bdc-a967-164758516859",
   "metadata": {},
   "outputs": [
    {
     "name": "stdout",
     "output_type": "stream",
     "text": [
      "     Name  Age  Gender\n",
      "0   Alice   25  Female\n",
      "1     Bab   30    Male\n",
      "2  Claire   27  Female\n"
     ]
    }
   ],
   "source": [
    "name=pd.Series(['Alice','Bab','Claire'])\n",
    "ages=pd.Series([25,30,27])\n",
    "gender=pd.Series(['Female','Male','Female'])\n",
    "df9=pd.DataFrame({'Name':name,'Age':ages,'Gender':gender})\n",
    "print(df9)"
   ]
  },
  {
   "cell_type": "code",
   "execution_count": null,
   "id": "eba455df-5bf1-4e82-ab33-9ea54d6b6c7b",
   "metadata": {},
   "outputs": [],
   "source": []
  }
 ],
 "metadata": {
  "kernelspec": {
   "display_name": "Python 3 (ipykernel)",
   "language": "python",
   "name": "python3"
  },
  "language_info": {
   "codemirror_mode": {
    "name": "ipython",
    "version": 3
   },
   "file_extension": ".py",
   "mimetype": "text/x-python",
   "name": "python",
   "nbconvert_exporter": "python",
   "pygments_lexer": "ipython3",
   "version": "3.10.8"
  }
 },
 "nbformat": 4,
 "nbformat_minor": 5
}
